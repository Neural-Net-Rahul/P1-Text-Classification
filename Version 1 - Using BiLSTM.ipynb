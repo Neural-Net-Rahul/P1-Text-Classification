{
  "cells": [
    {
      "cell_type": "markdown",
      "id": "e3a5b28a",
      "metadata": {
        "id": "e3a5b28a"
      },
      "source": [
        "# Text Classification using BiLSTM - Genre Classification Dataset IMDB\n",
        "Dataset - https://www.kaggle.com/datasets/hijest/genre-classification-dataset-imdb"
      ]
    },
    {
      "cell_type": "markdown",
      "id": "bc517b2c",
      "metadata": {
        "id": "bc517b2c"
      },
      "source": [
        "# Converting data into dataframe"
      ]
    },
    {
      "cell_type": "code",
      "execution_count": 1,
      "id": "c51c157d",
      "metadata": {
        "id": "c51c157d"
      },
      "outputs": [],
      "source": [
        "import numpy as np\n",
        "import pandas as pd\n",
        "\n",
        "file_path_train = 'genre_classification_train.txt'\n",
        "file_path_test = 'genre_classification_test.txt'\n",
        "\n",
        "# Read the data from the file and split it into lines\n",
        "with open(file_path_train, 'r', encoding='utf-8') as file:\n",
        "    lines_train = file.readlines()\n",
        "with open(file_path_test, 'r', encoding='utf-8') as file:\n",
        "    lines_test = file.readlines()\n",
        "\n",
        "# Initialize lists to store data\n",
        "movie_names_train = []\n",
        "genres_train = []\n",
        "reviews_train = []\n",
        "movie_names_test = []\n",
        "genres_test = []\n",
        "reviews_test = []\n",
        "\n",
        "# Process each line and extract relevant information\n",
        "for line in lines_train:\n",
        "    parts = line.split(' ::: ')\n",
        "    movie_names_train.append(parts[1])\n",
        "    genres_train.append(parts[2])\n",
        "    reviews_train.append(parts[3].strip())\n",
        "for line in lines_test:\n",
        "    parts = line.split(' ::: ')\n",
        "    movie_names_test.append(parts[1])\n",
        "    genres_test.append(parts[2])\n",
        "    reviews_test.append(parts[3].strip())\n",
        "\n",
        "# Create a DataFrame\n",
        "df1 = pd.DataFrame({\n",
        "    'Movie Name': movie_names_train,\n",
        "    'Genre': genres_train,\n",
        "    'Review': reviews_train\n",
        "})\n",
        "df2 = pd.DataFrame({\n",
        "    'Movie Name': movie_names_test,\n",
        "    'Genre': genres_test,\n",
        "    'Review': reviews_test\n",
        "})"
      ]
    },
    {
      "cell_type": "code",
      "execution_count": 2,
      "id": "31f63c0b",
      "metadata": {
        "colab": {
          "base_uri": "https://localhost:8080/",
          "height": 206
        },
        "id": "31f63c0b",
        "outputId": "d958e962-7aa2-4154-94cf-18032c9ab0c4"
      },
      "outputs": [
        {
          "output_type": "execute_result",
          "data": {
            "text/plain": [
              "                         Movie Name     Genre  \\\n",
              "0      Oscar et la dame rose (2009)     drama   \n",
              "1                      Cupid (1997)  thriller   \n",
              "2  Young, Wild and Wonderful (1980)     adult   \n",
              "3             The Secret Sin (1915)     drama   \n",
              "4            The Unrecovered (2007)     drama   \n",
              "\n",
              "                                              Review  \n",
              "0  Listening in to a conversation between his doc...  \n",
              "1  A brother and sister with a past incestuous re...  \n",
              "2  As the bus empties the students for their fiel...  \n",
              "3  To help their unemployed father make ends meet...  \n",
              "4  The film's title refers not only to the un-rec...  "
            ],
            "text/html": [
              "\n",
              "  <div id=\"df-a1e399ea-63ee-44ca-8fd0-440814852a99\" class=\"colab-df-container\">\n",
              "    <div>\n",
              "<style scoped>\n",
              "    .dataframe tbody tr th:only-of-type {\n",
              "        vertical-align: middle;\n",
              "    }\n",
              "\n",
              "    .dataframe tbody tr th {\n",
              "        vertical-align: top;\n",
              "    }\n",
              "\n",
              "    .dataframe thead th {\n",
              "        text-align: right;\n",
              "    }\n",
              "</style>\n",
              "<table border=\"1\" class=\"dataframe\">\n",
              "  <thead>\n",
              "    <tr style=\"text-align: right;\">\n",
              "      <th></th>\n",
              "      <th>Movie Name</th>\n",
              "      <th>Genre</th>\n",
              "      <th>Review</th>\n",
              "    </tr>\n",
              "  </thead>\n",
              "  <tbody>\n",
              "    <tr>\n",
              "      <th>0</th>\n",
              "      <td>Oscar et la dame rose (2009)</td>\n",
              "      <td>drama</td>\n",
              "      <td>Listening in to a conversation between his doc...</td>\n",
              "    </tr>\n",
              "    <tr>\n",
              "      <th>1</th>\n",
              "      <td>Cupid (1997)</td>\n",
              "      <td>thriller</td>\n",
              "      <td>A brother and sister with a past incestuous re...</td>\n",
              "    </tr>\n",
              "    <tr>\n",
              "      <th>2</th>\n",
              "      <td>Young, Wild and Wonderful (1980)</td>\n",
              "      <td>adult</td>\n",
              "      <td>As the bus empties the students for their fiel...</td>\n",
              "    </tr>\n",
              "    <tr>\n",
              "      <th>3</th>\n",
              "      <td>The Secret Sin (1915)</td>\n",
              "      <td>drama</td>\n",
              "      <td>To help their unemployed father make ends meet...</td>\n",
              "    </tr>\n",
              "    <tr>\n",
              "      <th>4</th>\n",
              "      <td>The Unrecovered (2007)</td>\n",
              "      <td>drama</td>\n",
              "      <td>The film's title refers not only to the un-rec...</td>\n",
              "    </tr>\n",
              "  </tbody>\n",
              "</table>\n",
              "</div>\n",
              "    <div class=\"colab-df-buttons\">\n",
              "\n",
              "  <div class=\"colab-df-container\">\n",
              "    <button class=\"colab-df-convert\" onclick=\"convertToInteractive('df-a1e399ea-63ee-44ca-8fd0-440814852a99')\"\n",
              "            title=\"Convert this dataframe to an interactive table.\"\n",
              "            style=\"display:none;\">\n",
              "\n",
              "  <svg xmlns=\"http://www.w3.org/2000/svg\" height=\"24px\" viewBox=\"0 -960 960 960\">\n",
              "    <path d=\"M120-120v-720h720v720H120Zm60-500h600v-160H180v160Zm220 220h160v-160H400v160Zm0 220h160v-160H400v160ZM180-400h160v-160H180v160Zm440 0h160v-160H620v160ZM180-180h160v-160H180v160Zm440 0h160v-160H620v160Z\"/>\n",
              "  </svg>\n",
              "    </button>\n",
              "\n",
              "  <style>\n",
              "    .colab-df-container {\n",
              "      display:flex;\n",
              "      gap: 12px;\n",
              "    }\n",
              "\n",
              "    .colab-df-convert {\n",
              "      background-color: #E8F0FE;\n",
              "      border: none;\n",
              "      border-radius: 50%;\n",
              "      cursor: pointer;\n",
              "      display: none;\n",
              "      fill: #1967D2;\n",
              "      height: 32px;\n",
              "      padding: 0 0 0 0;\n",
              "      width: 32px;\n",
              "    }\n",
              "\n",
              "    .colab-df-convert:hover {\n",
              "      background-color: #E2EBFA;\n",
              "      box-shadow: 0px 1px 2px rgba(60, 64, 67, 0.3), 0px 1px 3px 1px rgba(60, 64, 67, 0.15);\n",
              "      fill: #174EA6;\n",
              "    }\n",
              "\n",
              "    .colab-df-buttons div {\n",
              "      margin-bottom: 4px;\n",
              "    }\n",
              "\n",
              "    [theme=dark] .colab-df-convert {\n",
              "      background-color: #3B4455;\n",
              "      fill: #D2E3FC;\n",
              "    }\n",
              "\n",
              "    [theme=dark] .colab-df-convert:hover {\n",
              "      background-color: #434B5C;\n",
              "      box-shadow: 0px 1px 3px 1px rgba(0, 0, 0, 0.15);\n",
              "      filter: drop-shadow(0px 1px 2px rgba(0, 0, 0, 0.3));\n",
              "      fill: #FFFFFF;\n",
              "    }\n",
              "  </style>\n",
              "\n",
              "    <script>\n",
              "      const buttonEl =\n",
              "        document.querySelector('#df-a1e399ea-63ee-44ca-8fd0-440814852a99 button.colab-df-convert');\n",
              "      buttonEl.style.display =\n",
              "        google.colab.kernel.accessAllowed ? 'block' : 'none';\n",
              "\n",
              "      async function convertToInteractive(key) {\n",
              "        const element = document.querySelector('#df-a1e399ea-63ee-44ca-8fd0-440814852a99');\n",
              "        const dataTable =\n",
              "          await google.colab.kernel.invokeFunction('convertToInteractive',\n",
              "                                                    [key], {});\n",
              "        if (!dataTable) return;\n",
              "\n",
              "        const docLinkHtml = 'Like what you see? Visit the ' +\n",
              "          '<a target=\"_blank\" href=https://colab.research.google.com/notebooks/data_table.ipynb>data table notebook</a>'\n",
              "          + ' to learn more about interactive tables.';\n",
              "        element.innerHTML = '';\n",
              "        dataTable['output_type'] = 'display_data';\n",
              "        await google.colab.output.renderOutput(dataTable, element);\n",
              "        const docLink = document.createElement('div');\n",
              "        docLink.innerHTML = docLinkHtml;\n",
              "        element.appendChild(docLink);\n",
              "      }\n",
              "    </script>\n",
              "  </div>\n",
              "\n",
              "\n",
              "<div id=\"df-96cb6de5-9e39-4d27-b8ed-11f7ed4480dc\">\n",
              "  <button class=\"colab-df-quickchart\" onclick=\"quickchart('df-96cb6de5-9e39-4d27-b8ed-11f7ed4480dc')\"\n",
              "            title=\"Suggest charts\"\n",
              "            style=\"display:none;\">\n",
              "\n",
              "<svg xmlns=\"http://www.w3.org/2000/svg\" height=\"24px\"viewBox=\"0 0 24 24\"\n",
              "     width=\"24px\">\n",
              "    <g>\n",
              "        <path d=\"M19 3H5c-1.1 0-2 .9-2 2v14c0 1.1.9 2 2 2h14c1.1 0 2-.9 2-2V5c0-1.1-.9-2-2-2zM9 17H7v-7h2v7zm4 0h-2V7h2v10zm4 0h-2v-4h2v4z\"/>\n",
              "    </g>\n",
              "</svg>\n",
              "  </button>\n",
              "\n",
              "<style>\n",
              "  .colab-df-quickchart {\n",
              "      --bg-color: #E8F0FE;\n",
              "      --fill-color: #1967D2;\n",
              "      --hover-bg-color: #E2EBFA;\n",
              "      --hover-fill-color: #174EA6;\n",
              "      --disabled-fill-color: #AAA;\n",
              "      --disabled-bg-color: #DDD;\n",
              "  }\n",
              "\n",
              "  [theme=dark] .colab-df-quickchart {\n",
              "      --bg-color: #3B4455;\n",
              "      --fill-color: #D2E3FC;\n",
              "      --hover-bg-color: #434B5C;\n",
              "      --hover-fill-color: #FFFFFF;\n",
              "      --disabled-bg-color: #3B4455;\n",
              "      --disabled-fill-color: #666;\n",
              "  }\n",
              "\n",
              "  .colab-df-quickchart {\n",
              "    background-color: var(--bg-color);\n",
              "    border: none;\n",
              "    border-radius: 50%;\n",
              "    cursor: pointer;\n",
              "    display: none;\n",
              "    fill: var(--fill-color);\n",
              "    height: 32px;\n",
              "    padding: 0;\n",
              "    width: 32px;\n",
              "  }\n",
              "\n",
              "  .colab-df-quickchart:hover {\n",
              "    background-color: var(--hover-bg-color);\n",
              "    box-shadow: 0 1px 2px rgba(60, 64, 67, 0.3), 0 1px 3px 1px rgba(60, 64, 67, 0.15);\n",
              "    fill: var(--button-hover-fill-color);\n",
              "  }\n",
              "\n",
              "  .colab-df-quickchart-complete:disabled,\n",
              "  .colab-df-quickchart-complete:disabled:hover {\n",
              "    background-color: var(--disabled-bg-color);\n",
              "    fill: var(--disabled-fill-color);\n",
              "    box-shadow: none;\n",
              "  }\n",
              "\n",
              "  .colab-df-spinner {\n",
              "    border: 2px solid var(--fill-color);\n",
              "    border-color: transparent;\n",
              "    border-bottom-color: var(--fill-color);\n",
              "    animation:\n",
              "      spin 1s steps(1) infinite;\n",
              "  }\n",
              "\n",
              "  @keyframes spin {\n",
              "    0% {\n",
              "      border-color: transparent;\n",
              "      border-bottom-color: var(--fill-color);\n",
              "      border-left-color: var(--fill-color);\n",
              "    }\n",
              "    20% {\n",
              "      border-color: transparent;\n",
              "      border-left-color: var(--fill-color);\n",
              "      border-top-color: var(--fill-color);\n",
              "    }\n",
              "    30% {\n",
              "      border-color: transparent;\n",
              "      border-left-color: var(--fill-color);\n",
              "      border-top-color: var(--fill-color);\n",
              "      border-right-color: var(--fill-color);\n",
              "    }\n",
              "    40% {\n",
              "      border-color: transparent;\n",
              "      border-right-color: var(--fill-color);\n",
              "      border-top-color: var(--fill-color);\n",
              "    }\n",
              "    60% {\n",
              "      border-color: transparent;\n",
              "      border-right-color: var(--fill-color);\n",
              "    }\n",
              "    80% {\n",
              "      border-color: transparent;\n",
              "      border-right-color: var(--fill-color);\n",
              "      border-bottom-color: var(--fill-color);\n",
              "    }\n",
              "    90% {\n",
              "      border-color: transparent;\n",
              "      border-bottom-color: var(--fill-color);\n",
              "    }\n",
              "  }\n",
              "</style>\n",
              "\n",
              "  <script>\n",
              "    async function quickchart(key) {\n",
              "      const quickchartButtonEl =\n",
              "        document.querySelector('#' + key + ' button');\n",
              "      quickchartButtonEl.disabled = true;  // To prevent multiple clicks.\n",
              "      quickchartButtonEl.classList.add('colab-df-spinner');\n",
              "      try {\n",
              "        const charts = await google.colab.kernel.invokeFunction(\n",
              "            'suggestCharts', [key], {});\n",
              "      } catch (error) {\n",
              "        console.error('Error during call to suggestCharts:', error);\n",
              "      }\n",
              "      quickchartButtonEl.classList.remove('colab-df-spinner');\n",
              "      quickchartButtonEl.classList.add('colab-df-quickchart-complete');\n",
              "    }\n",
              "    (() => {\n",
              "      let quickchartButtonEl =\n",
              "        document.querySelector('#df-96cb6de5-9e39-4d27-b8ed-11f7ed4480dc button');\n",
              "      quickchartButtonEl.style.display =\n",
              "        google.colab.kernel.accessAllowed ? 'block' : 'none';\n",
              "    })();\n",
              "  </script>\n",
              "</div>\n",
              "\n",
              "    </div>\n",
              "  </div>\n"
            ]
          },
          "metadata": {},
          "execution_count": 2
        }
      ],
      "source": [
        "df1.head()"
      ]
    },
    {
      "cell_type": "markdown",
      "id": "8be2c2ad",
      "metadata": {
        "id": "8be2c2ad"
      },
      "source": [
        "# Checking for null values and duplicates"
      ]
    },
    {
      "cell_type": "code",
      "execution_count": 3,
      "id": "71e712d5",
      "metadata": {
        "colab": {
          "base_uri": "https://localhost:8080/"
        },
        "id": "71e712d5",
        "outputId": "3ce44b4e-d235-4cb7-ac01-340d080f6b13"
      },
      "outputs": [
        {
          "output_type": "stream",
          "name": "stdout",
          "text": [
            "Movie Name    0\n",
            "Genre         0\n",
            "Review        0\n",
            "dtype: int64\n",
            "Movie Name    0\n",
            "Genre         0\n",
            "Review        0\n",
            "dtype: int64\n"
          ]
        }
      ],
      "source": [
        "null_values1 = df1.isnull().sum()\n",
        "null_values2 = df2.isnull().sum()\n",
        "print(null_values1)\n",
        "print(null_values2)"
      ]
    },
    {
      "cell_type": "code",
      "execution_count": 4,
      "id": "230f2370",
      "metadata": {
        "colab": {
          "base_uri": "https://localhost:8080/"
        },
        "id": "230f2370",
        "outputId": "9532ca00-1c15-4500-a45b-f8a77e4805fa"
      },
      "outputs": [
        {
          "output_type": "stream",
          "name": "stdout",
          "text": [
            "0\n",
            "0\n"
          ]
        }
      ],
      "source": [
        "duplicate_rows1 = df1.duplicated().sum()\n",
        "duplicate_rows2 = df2.duplicated().sum()\n",
        "print(duplicate_rows1)\n",
        "print(duplicate_rows2)"
      ]
    },
    {
      "cell_type": "markdown",
      "id": "b3c8e6cf",
      "metadata": {
        "id": "b3c8e6cf"
      },
      "source": [
        "# Text Preprocessing\n",
        "remove numbers, lowercasing, remove html tags, remove urls, remove punctuation, chat word treatment, removing stop words, handling emojis, tokenization, lemmatization"
      ]
    },
    {
      "cell_type": "code",
      "execution_count": 5,
      "id": "0ea1bb7d",
      "metadata": {
        "colab": {
          "base_uri": "https://localhost:8080/"
        },
        "id": "0ea1bb7d",
        "outputId": "dcba0feb-dc6f-4ba0-f525-d1eca983d9e1"
      },
      "outputs": [
        {
          "output_type": "stream",
          "name": "stderr",
          "text": [
            "[nltk_data] Downloading package stopwords to /root/nltk_data...\n",
            "[nltk_data]   Package stopwords is already up-to-date!\n",
            "[nltk_data] Downloading package punkt to /root/nltk_data...\n",
            "[nltk_data]   Package punkt is already up-to-date!\n",
            "[nltk_data] Downloading package wordnet to /root/nltk_data...\n",
            "[nltk_data]   Package wordnet is already up-to-date!\n"
          ]
        },
        {
          "output_type": "execute_result",
          "data": {
            "text/plain": [
              "True"
            ]
          },
          "metadata": {},
          "execution_count": 5
        }
      ],
      "source": [
        "import nltk\n",
        "import re\n",
        "import html\n",
        "from bs4 import BeautifulSoup\n",
        "from nltk.corpus import stopwords\n",
        "from nltk.tokenize import word_tokenize\n",
        "from nltk.stem import WordNetLemmatizer\n",
        "nltk.download('stopwords')\n",
        "nltk.download('punkt')\n",
        "nltk.download('wordnet')"
      ]
    },
    {
      "cell_type": "code",
      "execution_count": 6,
      "id": "56819d16",
      "metadata": {
        "id": "56819d16"
      },
      "outputs": [],
      "source": [
        "def preprocess_text(text):\n",
        "    # Remove HTML tags\n",
        "    text = BeautifulSoup(text, 'html.parser').get_text()\n",
        "\n",
        "    # Remove URLs\n",
        "    text = re.sub(r'http\\S+', '', text)\n",
        "\n",
        "    # Remove numbers\n",
        "    text = re.sub(r'\\d+', '', text)\n",
        "\n",
        "    # Convert to lowercase\n",
        "    text = text.lower()\n",
        "\n",
        "    # Remove punctuation\n",
        "    text = re.sub(r'[^\\w\\s]', '', text)\n",
        "\n",
        "    # Chat word treatment (customize as needed)\n",
        "    chat_words_map = {'gr8': 'great', 'u': 'you', 'r': 'are', 'lol': 'laughing out loud'}\n",
        "    text = ' '.join(chat_words_map.get(word, word) for word in text.split())\n",
        "\n",
        "    # Remove stop words\n",
        "    stop_words = set(stopwords.words('english'))\n",
        "    words = word_tokenize(text)\n",
        "    words = [word for word in words if word not in stop_words]\n",
        "\n",
        "    # Lemmatization\n",
        "    lemmatizer = WordNetLemmatizer()\n",
        "    words = [lemmatizer.lemmatize(word) for word in words]\n",
        "\n",
        "    # Join the words back into a string\n",
        "    text = ' '.join(words)\n",
        "\n",
        "    return text\n"
      ]
    },
    {
      "cell_type": "code",
      "execution_count": 7,
      "id": "27101092",
      "metadata": {
        "colab": {
          "base_uri": "https://localhost:8080/"
        },
        "id": "27101092",
        "outputId": "360d3b0e-7158-4089-f0b5-e169e152348e"
      },
      "outputs": [
        {
          "output_type": "stream",
          "name": "stderr",
          "text": [
            "<ipython-input-6-88f3de7f69a9>:3: MarkupResemblesLocatorWarning: The input looks more like a filename than markup. You may want to open this file and pass the filehandle into Beautiful Soup.\n",
            "  text = BeautifulSoup(text, 'html.parser').get_text()\n"
          ]
        }
      ],
      "source": [
        "df1['Review'] = df1['Review'].apply(preprocess_text)\n",
        "df2['Review'] = df2['Review'].apply(preprocess_text)"
      ]
    },
    {
      "cell_type": "code",
      "execution_count": 8,
      "id": "4fc3c0a9",
      "metadata": {
        "id": "4fc3c0a9"
      },
      "outputs": [],
      "source": [
        "df1['Review'].fillna('',inplace=True)\n",
        "df2['Review'].fillna('',inplace=True)"
      ]
    },
    {
      "cell_type": "code",
      "execution_count": 9,
      "id": "ab4c51d5",
      "metadata": {
        "colab": {
          "base_uri": "https://localhost:8080/"
        },
        "id": "ab4c51d5",
        "outputId": "23a8d144-3929-45cd-8056-9bbc097e1540"
      },
      "outputs": [
        {
          "output_type": "execute_result",
          "data": {
            "text/plain": [
              "Index(['drama', 'documentary', 'comedy', 'short', 'horror', 'thriller',\n",
              "       'action', 'western', 'reality-tv', 'family', 'adventure', 'music',\n",
              "       'romance', 'sci-fi', 'adult', 'crime', 'animation', 'sport',\n",
              "       'talk-show', 'fantasy', 'mystery', 'musical', 'biography', 'history',\n",
              "       'game-show', 'news', 'war'],\n",
              "      dtype='object')"
            ]
          },
          "metadata": {},
          "execution_count": 9
        }
      ],
      "source": [
        "df1['Genre'].value_counts().index"
      ]
    },
    {
      "cell_type": "markdown",
      "id": "efce10ea",
      "metadata": {
        "id": "efce10ea"
      },
      "source": [
        "# Replacing \"genre\" with integer values\n",
        "drama -> 1\n",
        "action -> 2 and so on"
      ]
    },
    {
      "cell_type": "code",
      "execution_count": 10,
      "id": "342804ff",
      "metadata": {
        "id": "342804ff"
      },
      "outputs": [],
      "source": [
        "i = 1;\n",
        "mp = {}\n",
        "for genres in df1['Genre'].value_counts().index:\n",
        "    mp[genres] = i;\n",
        "    i = i+1;\n",
        "def func(text):\n",
        "    return mp[text]\n",
        "df1['Genre'] = df1['Genre'].apply(func)\n",
        "df2['Genre'] = df2['Genre'].apply(func)"
      ]
    },
    {
      "cell_type": "code",
      "execution_count": 11,
      "id": "03dad953",
      "metadata": {
        "colab": {
          "base_uri": "https://localhost:8080/",
          "height": 206
        },
        "id": "03dad953",
        "outputId": "f7daa3af-718a-4607-a238-2d28dba83092"
      },
      "outputs": [
        {
          "output_type": "execute_result",
          "data": {
            "text/plain": [
              "                         Movie Name  Genre  \\\n",
              "0      Oscar et la dame rose (2009)      1   \n",
              "1                      Cupid (1997)      6   \n",
              "2  Young, Wild and Wonderful (1980)     15   \n",
              "3             The Secret Sin (1915)      1   \n",
              "4            The Unrecovered (2007)      1   \n",
              "\n",
              "                                              Review  \n",
              "0  listening conversation doctor parent yearold o...  \n",
              "1  brother sister past incestuous relationship cu...  \n",
              "2  bus empty student field trip museum natural hi...  \n",
              "3  help unemployed father make end meet edith twi...  \n",
              "4  film title refers unrecovered body ground zero...  "
            ],
            "text/html": [
              "\n",
              "  <div id=\"df-52694d5c-51af-43d1-8ed9-c849929c6599\" class=\"colab-df-container\">\n",
              "    <div>\n",
              "<style scoped>\n",
              "    .dataframe tbody tr th:only-of-type {\n",
              "        vertical-align: middle;\n",
              "    }\n",
              "\n",
              "    .dataframe tbody tr th {\n",
              "        vertical-align: top;\n",
              "    }\n",
              "\n",
              "    .dataframe thead th {\n",
              "        text-align: right;\n",
              "    }\n",
              "</style>\n",
              "<table border=\"1\" class=\"dataframe\">\n",
              "  <thead>\n",
              "    <tr style=\"text-align: right;\">\n",
              "      <th></th>\n",
              "      <th>Movie Name</th>\n",
              "      <th>Genre</th>\n",
              "      <th>Review</th>\n",
              "    </tr>\n",
              "  </thead>\n",
              "  <tbody>\n",
              "    <tr>\n",
              "      <th>0</th>\n",
              "      <td>Oscar et la dame rose (2009)</td>\n",
              "      <td>1</td>\n",
              "      <td>listening conversation doctor parent yearold o...</td>\n",
              "    </tr>\n",
              "    <tr>\n",
              "      <th>1</th>\n",
              "      <td>Cupid (1997)</td>\n",
              "      <td>6</td>\n",
              "      <td>brother sister past incestuous relationship cu...</td>\n",
              "    </tr>\n",
              "    <tr>\n",
              "      <th>2</th>\n",
              "      <td>Young, Wild and Wonderful (1980)</td>\n",
              "      <td>15</td>\n",
              "      <td>bus empty student field trip museum natural hi...</td>\n",
              "    </tr>\n",
              "    <tr>\n",
              "      <th>3</th>\n",
              "      <td>The Secret Sin (1915)</td>\n",
              "      <td>1</td>\n",
              "      <td>help unemployed father make end meet edith twi...</td>\n",
              "    </tr>\n",
              "    <tr>\n",
              "      <th>4</th>\n",
              "      <td>The Unrecovered (2007)</td>\n",
              "      <td>1</td>\n",
              "      <td>film title refers unrecovered body ground zero...</td>\n",
              "    </tr>\n",
              "  </tbody>\n",
              "</table>\n",
              "</div>\n",
              "    <div class=\"colab-df-buttons\">\n",
              "\n",
              "  <div class=\"colab-df-container\">\n",
              "    <button class=\"colab-df-convert\" onclick=\"convertToInteractive('df-52694d5c-51af-43d1-8ed9-c849929c6599')\"\n",
              "            title=\"Convert this dataframe to an interactive table.\"\n",
              "            style=\"display:none;\">\n",
              "\n",
              "  <svg xmlns=\"http://www.w3.org/2000/svg\" height=\"24px\" viewBox=\"0 -960 960 960\">\n",
              "    <path d=\"M120-120v-720h720v720H120Zm60-500h600v-160H180v160Zm220 220h160v-160H400v160Zm0 220h160v-160H400v160ZM180-400h160v-160H180v160Zm440 0h160v-160H620v160ZM180-180h160v-160H180v160Zm440 0h160v-160H620v160Z\"/>\n",
              "  </svg>\n",
              "    </button>\n",
              "\n",
              "  <style>\n",
              "    .colab-df-container {\n",
              "      display:flex;\n",
              "      gap: 12px;\n",
              "    }\n",
              "\n",
              "    .colab-df-convert {\n",
              "      background-color: #E8F0FE;\n",
              "      border: none;\n",
              "      border-radius: 50%;\n",
              "      cursor: pointer;\n",
              "      display: none;\n",
              "      fill: #1967D2;\n",
              "      height: 32px;\n",
              "      padding: 0 0 0 0;\n",
              "      width: 32px;\n",
              "    }\n",
              "\n",
              "    .colab-df-convert:hover {\n",
              "      background-color: #E2EBFA;\n",
              "      box-shadow: 0px 1px 2px rgba(60, 64, 67, 0.3), 0px 1px 3px 1px rgba(60, 64, 67, 0.15);\n",
              "      fill: #174EA6;\n",
              "    }\n",
              "\n",
              "    .colab-df-buttons div {\n",
              "      margin-bottom: 4px;\n",
              "    }\n",
              "\n",
              "    [theme=dark] .colab-df-convert {\n",
              "      background-color: #3B4455;\n",
              "      fill: #D2E3FC;\n",
              "    }\n",
              "\n",
              "    [theme=dark] .colab-df-convert:hover {\n",
              "      background-color: #434B5C;\n",
              "      box-shadow: 0px 1px 3px 1px rgba(0, 0, 0, 0.15);\n",
              "      filter: drop-shadow(0px 1px 2px rgba(0, 0, 0, 0.3));\n",
              "      fill: #FFFFFF;\n",
              "    }\n",
              "  </style>\n",
              "\n",
              "    <script>\n",
              "      const buttonEl =\n",
              "        document.querySelector('#df-52694d5c-51af-43d1-8ed9-c849929c6599 button.colab-df-convert');\n",
              "      buttonEl.style.display =\n",
              "        google.colab.kernel.accessAllowed ? 'block' : 'none';\n",
              "\n",
              "      async function convertToInteractive(key) {\n",
              "        const element = document.querySelector('#df-52694d5c-51af-43d1-8ed9-c849929c6599');\n",
              "        const dataTable =\n",
              "          await google.colab.kernel.invokeFunction('convertToInteractive',\n",
              "                                                    [key], {});\n",
              "        if (!dataTable) return;\n",
              "\n",
              "        const docLinkHtml = 'Like what you see? Visit the ' +\n",
              "          '<a target=\"_blank\" href=https://colab.research.google.com/notebooks/data_table.ipynb>data table notebook</a>'\n",
              "          + ' to learn more about interactive tables.';\n",
              "        element.innerHTML = '';\n",
              "        dataTable['output_type'] = 'display_data';\n",
              "        await google.colab.output.renderOutput(dataTable, element);\n",
              "        const docLink = document.createElement('div');\n",
              "        docLink.innerHTML = docLinkHtml;\n",
              "        element.appendChild(docLink);\n",
              "      }\n",
              "    </script>\n",
              "  </div>\n",
              "\n",
              "\n",
              "<div id=\"df-3ddac818-b32b-4b9f-bedc-6ce275772277\">\n",
              "  <button class=\"colab-df-quickchart\" onclick=\"quickchart('df-3ddac818-b32b-4b9f-bedc-6ce275772277')\"\n",
              "            title=\"Suggest charts\"\n",
              "            style=\"display:none;\">\n",
              "\n",
              "<svg xmlns=\"http://www.w3.org/2000/svg\" height=\"24px\"viewBox=\"0 0 24 24\"\n",
              "     width=\"24px\">\n",
              "    <g>\n",
              "        <path d=\"M19 3H5c-1.1 0-2 .9-2 2v14c0 1.1.9 2 2 2h14c1.1 0 2-.9 2-2V5c0-1.1-.9-2-2-2zM9 17H7v-7h2v7zm4 0h-2V7h2v10zm4 0h-2v-4h2v4z\"/>\n",
              "    </g>\n",
              "</svg>\n",
              "  </button>\n",
              "\n",
              "<style>\n",
              "  .colab-df-quickchart {\n",
              "      --bg-color: #E8F0FE;\n",
              "      --fill-color: #1967D2;\n",
              "      --hover-bg-color: #E2EBFA;\n",
              "      --hover-fill-color: #174EA6;\n",
              "      --disabled-fill-color: #AAA;\n",
              "      --disabled-bg-color: #DDD;\n",
              "  }\n",
              "\n",
              "  [theme=dark] .colab-df-quickchart {\n",
              "      --bg-color: #3B4455;\n",
              "      --fill-color: #D2E3FC;\n",
              "      --hover-bg-color: #434B5C;\n",
              "      --hover-fill-color: #FFFFFF;\n",
              "      --disabled-bg-color: #3B4455;\n",
              "      --disabled-fill-color: #666;\n",
              "  }\n",
              "\n",
              "  .colab-df-quickchart {\n",
              "    background-color: var(--bg-color);\n",
              "    border: none;\n",
              "    border-radius: 50%;\n",
              "    cursor: pointer;\n",
              "    display: none;\n",
              "    fill: var(--fill-color);\n",
              "    height: 32px;\n",
              "    padding: 0;\n",
              "    width: 32px;\n",
              "  }\n",
              "\n",
              "  .colab-df-quickchart:hover {\n",
              "    background-color: var(--hover-bg-color);\n",
              "    box-shadow: 0 1px 2px rgba(60, 64, 67, 0.3), 0 1px 3px 1px rgba(60, 64, 67, 0.15);\n",
              "    fill: var(--button-hover-fill-color);\n",
              "  }\n",
              "\n",
              "  .colab-df-quickchart-complete:disabled,\n",
              "  .colab-df-quickchart-complete:disabled:hover {\n",
              "    background-color: var(--disabled-bg-color);\n",
              "    fill: var(--disabled-fill-color);\n",
              "    box-shadow: none;\n",
              "  }\n",
              "\n",
              "  .colab-df-spinner {\n",
              "    border: 2px solid var(--fill-color);\n",
              "    border-color: transparent;\n",
              "    border-bottom-color: var(--fill-color);\n",
              "    animation:\n",
              "      spin 1s steps(1) infinite;\n",
              "  }\n",
              "\n",
              "  @keyframes spin {\n",
              "    0% {\n",
              "      border-color: transparent;\n",
              "      border-bottom-color: var(--fill-color);\n",
              "      border-left-color: var(--fill-color);\n",
              "    }\n",
              "    20% {\n",
              "      border-color: transparent;\n",
              "      border-left-color: var(--fill-color);\n",
              "      border-top-color: var(--fill-color);\n",
              "    }\n",
              "    30% {\n",
              "      border-color: transparent;\n",
              "      border-left-color: var(--fill-color);\n",
              "      border-top-color: var(--fill-color);\n",
              "      border-right-color: var(--fill-color);\n",
              "    }\n",
              "    40% {\n",
              "      border-color: transparent;\n",
              "      border-right-color: var(--fill-color);\n",
              "      border-top-color: var(--fill-color);\n",
              "    }\n",
              "    60% {\n",
              "      border-color: transparent;\n",
              "      border-right-color: var(--fill-color);\n",
              "    }\n",
              "    80% {\n",
              "      border-color: transparent;\n",
              "      border-right-color: var(--fill-color);\n",
              "      border-bottom-color: var(--fill-color);\n",
              "    }\n",
              "    90% {\n",
              "      border-color: transparent;\n",
              "      border-bottom-color: var(--fill-color);\n",
              "    }\n",
              "  }\n",
              "</style>\n",
              "\n",
              "  <script>\n",
              "    async function quickchart(key) {\n",
              "      const quickchartButtonEl =\n",
              "        document.querySelector('#' + key + ' button');\n",
              "      quickchartButtonEl.disabled = true;  // To prevent multiple clicks.\n",
              "      quickchartButtonEl.classList.add('colab-df-spinner');\n",
              "      try {\n",
              "        const charts = await google.colab.kernel.invokeFunction(\n",
              "            'suggestCharts', [key], {});\n",
              "      } catch (error) {\n",
              "        console.error('Error during call to suggestCharts:', error);\n",
              "      }\n",
              "      quickchartButtonEl.classList.remove('colab-df-spinner');\n",
              "      quickchartButtonEl.classList.add('colab-df-quickchart-complete');\n",
              "    }\n",
              "    (() => {\n",
              "      let quickchartButtonEl =\n",
              "        document.querySelector('#df-3ddac818-b32b-4b9f-bedc-6ce275772277 button');\n",
              "      quickchartButtonEl.style.display =\n",
              "        google.colab.kernel.accessAllowed ? 'block' : 'none';\n",
              "    })();\n",
              "  </script>\n",
              "</div>\n",
              "\n",
              "    </div>\n",
              "  </div>\n"
            ]
          },
          "metadata": {},
          "execution_count": 11
        }
      ],
      "source": [
        "df1.head()"
      ]
    },
    {
      "cell_type": "markdown",
      "id": "fa0eaa72",
      "metadata": {
        "id": "fa0eaa72"
      },
      "source": [
        "# Train test split"
      ]
    },
    {
      "cell_type": "code",
      "execution_count": 12,
      "id": "93f6122f",
      "metadata": {
        "id": "93f6122f"
      },
      "outputs": [],
      "source": [
        "x_train = df1['Review'].tolist()\n",
        "y_train = df1['Genre'].tolist()\n",
        "x_test = df2['Review'].tolist()\n",
        "y_test = df2['Genre'].tolist()"
      ]
    },
    {
      "cell_type": "markdown",
      "id": "415ac856",
      "metadata": {
        "id": "415ac856"
      },
      "source": [
        "# Converting textual data into vectors"
      ]
    },
    {
      "cell_type": "markdown",
      "id": "6632ad3b",
      "metadata": {
        "id": "6632ad3b"
      },
      "source": [
        "Find total number of unique genres"
      ]
    },
    {
      "cell_type": "code",
      "execution_count": 13,
      "id": "34742990",
      "metadata": {
        "colab": {
          "base_uri": "https://localhost:8080/"
        },
        "id": "34742990",
        "outputId": "a4f1165e-251f-4134-c9fe-031f5dbbcc05"
      },
      "outputs": [
        {
          "output_type": "execute_result",
          "data": {
            "text/plain": [
              "27"
            ]
          },
          "metadata": {},
          "execution_count": 13
        }
      ],
      "source": [
        "unique_genre = 0;\n",
        "unique_genre = df1['Genre'].value_counts().index.size\n",
        "unique_genre"
      ]
    },
    {
      "cell_type": "code",
      "execution_count": 14,
      "id": "cc2d5663",
      "metadata": {
        "id": "cc2d5663"
      },
      "outputs": [],
      "source": [
        "# The Tokenizer is configured to keep the top 20,000 most frequent words in the vocabulary.\n",
        "from keras.preprocessing.text import Tokenizer\n",
        "tokenizer = Tokenizer(num_words=20000)"
      ]
    },
    {
      "cell_type": "code",
      "execution_count": 15,
      "id": "32abd69b",
      "metadata": {
        "id": "32abd69b"
      },
      "outputs": [],
      "source": [
        "tokenizer.fit_on_texts(x_train)"
      ]
    },
    {
      "cell_type": "code",
      "execution_count": 16,
      "id": "270c9759",
      "metadata": {
        "id": "270c9759"
      },
      "outputs": [],
      "source": [
        "x_train = tokenizer.texts_to_sequences(x_train)\n",
        "x_test = tokenizer.texts_to_sequences(x_test)"
      ]
    },
    {
      "cell_type": "code",
      "execution_count": 17,
      "id": "bfe8628f",
      "metadata": {
        "id": "bfe8628f"
      },
      "outputs": [],
      "source": [
        "from keras.utils import to_categorical"
      ]
    },
    {
      "cell_type": "code",
      "execution_count": 18,
      "id": "61755010",
      "metadata": {
        "id": "61755010"
      },
      "outputs": [],
      "source": [
        "y_train = to_categorical(y_train, unique_genre+1)\n",
        "y_test = to_categorical(y_test, unique_genre+1)"
      ]
    },
    {
      "cell_type": "code",
      "execution_count": 19,
      "id": "43bb6e92",
      "metadata": {
        "colab": {
          "base_uri": "https://localhost:8080/"
        },
        "id": "43bb6e92",
        "outputId": "2deda206-5205-4251-8f12-d0671cf820a9"
      },
      "outputs": [
        {
          "output_type": "execute_result",
          "data": {
            "text/plain": [
              "array([[0., 1., 0., ..., 0., 0., 0.],\n",
              "       [0., 0., 0., ..., 0., 0., 0.],\n",
              "       [0., 0., 0., ..., 0., 0., 0.],\n",
              "       ...,\n",
              "       [0., 0., 1., ..., 0., 0., 0.],\n",
              "       [0., 0., 0., ..., 0., 0., 0.],\n",
              "       [0., 0., 0., ..., 0., 0., 0.]], dtype=float32)"
            ]
          },
          "metadata": {},
          "execution_count": 19
        }
      ],
      "source": [
        "y_train"
      ]
    },
    {
      "cell_type": "code",
      "execution_count": 20,
      "id": "5810c85f",
      "metadata": {
        "colab": {
          "base_uri": "https://localhost:8080/"
        },
        "id": "5810c85f",
        "outputId": "7fc64ad2-369a-434d-c300-9dffa42f4a0e"
      },
      "outputs": [
        {
          "output_type": "stream",
          "name": "stdout",
          "text": [
            "1054\n"
          ]
        }
      ],
      "source": [
        "# Finding maxlen\n",
        "maxlen = 0;\n",
        "for i in range(len(x_train)):\n",
        "    maxlen = max(maxlen,len(x_train[i]))\n",
        "print(maxlen)"
      ]
    },
    {
      "cell_type": "markdown",
      "id": "3ad73055",
      "metadata": {
        "id": "3ad73055"
      },
      "source": [
        "Post Padding"
      ]
    },
    {
      "cell_type": "code",
      "execution_count": 21,
      "id": "14597ce5",
      "metadata": {
        "id": "14597ce5"
      },
      "outputs": [],
      "source": [
        "from keras.utils import pad_sequences\n",
        "x_train = pad_sequences(x_train, padding='post', maxlen=maxlen+100)\n",
        "x_test = pad_sequences(x_test, padding='post', maxlen=maxlen+100)"
      ]
    },
    {
      "cell_type": "code",
      "execution_count": 22,
      "id": "681f57f0",
      "metadata": {
        "colab": {
          "base_uri": "https://localhost:8080/"
        },
        "id": "681f57f0",
        "outputId": "71285d5b-583a-436b-aba4-cc2bf0bea62f"
      },
      "outputs": [
        {
          "output_type": "execute_result",
          "data": {
            "text/plain": [
              "array([[ 4676,  1092,   286, ...,     0,     0,     0],\n",
              "       [   64,   119,    91, ...,     0,     0,     0],\n",
              "       [ 1443,  1815,   115, ...,     0,     0,     0],\n",
              "       ...,\n",
              "       [ 3768,   233,   681, ...,     0,     0,     0],\n",
              "       [ 2075, 12143,    58, ...,     0,     0,     0],\n",
              "       [ 2296,    20,  1002, ...,     0,     0,     0]], dtype=int32)"
            ]
          },
          "metadata": {},
          "execution_count": 22
        }
      ],
      "source": [
        "x_train"
      ]
    },
    {
      "cell_type": "code",
      "execution_count": 23,
      "id": "42816a58",
      "metadata": {
        "colab": {
          "base_uri": "https://localhost:8080/"
        },
        "id": "42816a58",
        "outputId": "00d921c1-04f4-49a0-8993-da12b56c845a"
      },
      "outputs": [
        {
          "output_type": "execute_result",
          "data": {
            "text/plain": [
              "array([[0., 1., 0., ..., 0., 0., 0.],\n",
              "       [0., 0., 0., ..., 0., 0., 0.],\n",
              "       [0., 0., 0., ..., 0., 0., 0.],\n",
              "       ...,\n",
              "       [0., 0., 1., ..., 0., 0., 0.],\n",
              "       [0., 0., 0., ..., 0., 0., 0.],\n",
              "       [0., 0., 0., ..., 0., 0., 0.]], dtype=float32)"
            ]
          },
          "metadata": {},
          "execution_count": 23
        }
      ],
      "source": [
        "y_train"
      ]
    },
    {
      "cell_type": "code",
      "execution_count": 24,
      "id": "585ff853",
      "metadata": {
        "colab": {
          "base_uri": "https://localhost:8080/"
        },
        "id": "585ff853",
        "outputId": "1e1da41a-4157-452b-94e3-bb6b00ebd96b"
      },
      "outputs": [
        {
          "output_type": "execute_result",
          "data": {
            "text/plain": [
              "(54214, 1154)"
            ]
          },
          "metadata": {},
          "execution_count": 24
        }
      ],
      "source": [
        "x_train.shape"
      ]
    },
    {
      "cell_type": "code",
      "execution_count": 25,
      "id": "809b20d5",
      "metadata": {
        "colab": {
          "base_uri": "https://localhost:8080/"
        },
        "id": "809b20d5",
        "outputId": "e6680895-88d0-4afc-e39b-6cc3e941c382"
      },
      "outputs": [
        {
          "output_type": "execute_result",
          "data": {
            "text/plain": [
              "(54214, 28)"
            ]
          },
          "metadata": {},
          "execution_count": 25
        }
      ],
      "source": [
        "y_train.shape"
      ]
    },
    {
      "cell_type": "markdown",
      "id": "eef47977",
      "metadata": {
        "id": "eef47977"
      },
      "source": [
        "# Model Building"
      ]
    },
    {
      "cell_type": "code",
      "execution_count": 26,
      "id": "382d2e9a",
      "metadata": {
        "id": "382d2e9a"
      },
      "outputs": [],
      "source": [
        "from keras import Sequential\n",
        "from keras.layers import Dense,Embedding,LSTM,Bidirectional"
      ]
    },
    {
      "cell_type": "code",
      "execution_count": 31,
      "id": "9913a7f7",
      "metadata": {
        "colab": {
          "base_uri": "https://localhost:8080/"
        },
        "id": "9913a7f7",
        "outputId": "b8b90d8d-9de5-4a02-99c7-e5efce9deffa"
      },
      "outputs": [
        {
          "output_type": "stream",
          "name": "stdout",
          "text": [
            "Model: \"sequential_2\"\n",
            "_________________________________________________________________\n",
            " Layer (type)                Output Shape              Param #   \n",
            "=================================================================\n",
            " embedding_2 (Embedding)     (None, 1154, 10)          200000    \n",
            "                                                                 \n",
            " bidirectional_5 (Bidirecti  (None, 1154, 256)         142336    \n",
            " onal)                                                           \n",
            "                                                                 \n",
            " dropout_3 (Dropout)         (None, 1154, 256)         0         \n",
            "                                                                 \n",
            " bidirectional_6 (Bidirecti  (None, 1154, 128)         164352    \n",
            " onal)                                                           \n",
            "                                                                 \n",
            " dropout_4 (Dropout)         (None, 1154, 128)         0         \n",
            "                                                                 \n",
            " bidirectional_7 (Bidirecti  (None, 64)                41216     \n",
            " onal)                                                           \n",
            "                                                                 \n",
            " dropout_5 (Dropout)         (None, 64)                0         \n",
            "                                                                 \n",
            " dense_1 (Dense)             (None, 28)                1820      \n",
            "                                                                 \n",
            "=================================================================\n",
            "Total params: 549724 (2.10 MB)\n",
            "Trainable params: 549724 (2.10 MB)\n",
            "Non-trainable params: 0 (0.00 Byte)\n",
            "_________________________________________________________________\n"
          ]
        }
      ],
      "source": [
        "from keras.layers import Dropout\n",
        "model = Sequential()\n",
        "model.add(Embedding(input_dim=20000, output_dim=10, input_length=x_train.shape[1])) # every word will be represented using 10 numbers\n",
        "model.add(Bidirectional(LSTM(128,return_sequences=True)))\n",
        "model.add(Dropout(0.2))\n",
        "model.add(Bidirectional(LSTM(64,return_sequences=True)))\n",
        "model.add(Dropout(0.2))\n",
        "model.add(Bidirectional(LSTM(32,return_sequences=False)))\n",
        "model.add(Dropout(0.2))\n",
        "model.add(Dense(y_train.shape[1],activation='softmax'))\n",
        "model.summary()"
      ]
    },
    {
      "cell_type": "code",
      "execution_count": 32,
      "id": "f650db0f",
      "metadata": {
        "id": "f650db0f"
      },
      "outputs": [],
      "source": [
        "model.compile(optimizer='adam', loss='categorical_crossentropy', metrics=['accuracy'])"
      ]
    },
    {
      "cell_type": "code",
      "execution_count": 39,
      "id": "19d6f6ad",
      "metadata": {
        "id": "19d6f6ad"
      },
      "outputs": [],
      "source": [
        "from keras.callbacks import EarlyStopping\n",
        "\n",
        "batch_size = 30\n",
        "early_stop = EarlyStopping(monitor = 'val_loss',\n",
        "                           patience = 5)\n",
        "history = model.fit(\n",
        "    x_train,\n",
        "    y_train,\n",
        "    batch_size=batch_size,\n",
        "    epochs=30,\n",
        "    callbacks = [early_stop],\n",
        "    validation_data=(x_test, y_test))"
      ]
    },
    {
      "cell_type": "code",
      "source": [
        "import matplotlib.pyplot as plt\n",
        "plt.plot(history.history['accuracy'])\n",
        "plt.plot(history.history['val_accuracy'])\n",
        "plt.show()"
      ],
      "metadata": {
        "id": "HUrppkW5UJHs"
      },
      "id": "HUrppkW5UJHs",
      "execution_count": 40,
      "outputs": []
    },
    {
      "cell_type": "code",
      "source": [
        "def doPrediction(text):\n",
        "  text = preprocess_text(text)\n",
        "  tokenizer.fit_on_texts(text)\n",
        "  text = tokenizer.texts_to_sequences(text)\n",
        "  text = pad_sequences(text, padding='post', maxlen=maxlen+100)\n",
        "  predictions = model.predict(text)\n",
        "  predicted_class_index = predictions.argmax(axis=-1)\n",
        "  val = predicted_class_index[0]\n",
        "  for key,value in mp.items():\n",
        "    if value==val:\n",
        "      return key;"
      ],
      "metadata": {
        "id": "be5JWuOlVBmX"
      },
      "id": "be5JWuOlVBmX",
      "execution_count": 35,
      "outputs": []
    },
    {
      "cell_type": "markdown",
      "source": [
        "# Prediction"
      ],
      "metadata": {
        "id": "7ddsaFp9Y6-m"
      },
      "id": "7ddsaFp9Y6-m"
    },
    {
      "cell_type": "code",
      "source": [
        "# Prediction 1\n",
        "text = \"Zahra's biggest dream is to gain education and become a midwife. But since her father Reza is already looking forward to marry her off as soon as she reaches the puberty, and believes that going to school is a shame for the girl of her age, she would have to struggle a lot to make her dream come true. Neither she nor her father expects the shame to fall on the family, after Zahra is being sexually assaulted on her way from school and then forced by the village elders into marriage with the culprit, as per customary law. Her decision to elope will put Reza in debts for years and push his elder son, Zaker, to reach for extreme means, resulting in the tragedy they could never expect. The story - set up in a remote village of Afghanistan - is a call for action to put the end to discrimination against girls and respect their rights, including right to education, reasoning that education of girls turns out to be the best investment of the community.\"\n",
        "doPrediction(text)\n",
        "# Expected -> drama"
      ],
      "metadata": {
        "colab": {
          "base_uri": "https://localhost:8080/"
        },
        "id": "H6qP7iXiUOkq",
        "outputId": "f3d5bd37-8588-47fe-bdbd-80292e8141e8"
      },
      "id": "H6qP7iXiUOkq",
      "execution_count": 41,
      "outputs": [
        {
          "output_type": "stream",
          "name": "stdout",
          "text": [
            "drama\n"
          ]
        }
      ]
    },
    {
      "cell_type": "code",
      "source": [
        "# Prediction 2\n",
        "text = \"An old actress accepts a challenging role to interpret an unknown composer, who died in oblivion, whose radical work could have revolutionized the music. In an immersion trip to the hometown of her character, the actress meets a mysterious man, 35 years younger.\"\n",
        "doPrediction(text)\n",
        "# Expected -> romance"
      ],
      "metadata": {
        "colab": {
          "base_uri": "https://localhost:8080/"
        },
        "id": "ivhv71CJXIDc",
        "outputId": "eb4bba8d-8fac-4352-9f6a-9430ee302cec"
      },
      "id": "ivhv71CJXIDc",
      "execution_count": 42,
      "outputs": [
        {
          "output_type": "stream",
          "name": "stdout",
          "text": [
            "action\n"
          ]
        }
      ]
    },
    {
      "cell_type": "code",
      "source": [
        "# Prediction 3\n",
        "text = \"Lenny Parker, a mysterious stranger becomes the landlord of a local pub. A ruthless gang who work for local businessman Ray Gleeson decide they want to take over the pub, spurred on by the fact that Lenny's barmaid Terri is the ex of Ray's psychotic son Dominic Gleeson. Dominic is out for revenge after being neglected by Terri, Lenny is the only obstacle standing in his way as Terri and her daughter Peewee find themselves drawn to Lenny. When Dominic and the gang go too far and attack Terri, Lenny is forced to face his darkest fears and go back to his old ways to protect his pub and newfound family - but how far will he go?\"\n",
        "doPrediction(text)\n",
        "# Expected -> thriller"
      ],
      "metadata": {
        "colab": {
          "base_uri": "https://localhost:8080/"
        },
        "id": "eXKEzXg5XmIx",
        "outputId": "10d9390a-84ec-4121-c230-c401c3028b7f"
      },
      "id": "eXKEzXg5XmIx",
      "execution_count": 43,
      "outputs": [
        {
          "output_type": "stream",
          "name": "stdout",
          "text": [
            "thriller\n"
          ]
        }
      ]
    }
  ],
  "metadata": {
    "kernelspec": {
      "display_name": "Python 3",
      "name": "python3"
    },
    "language_info": {
      "codemirror_mode": {
        "name": "ipython",
        "version": 3
      },
      "file_extension": ".py",
      "mimetype": "text/x-python",
      "name": "python",
      "nbconvert_exporter": "python",
      "pygments_lexer": "ipython3",
      "version": "3.9.13"
    },
    "colab": {
      "provenance": [],
      "gpuType": "T4"
    },
    "accelerator": "GPU"
  },
  "nbformat": 4,
  "nbformat_minor": 5
}